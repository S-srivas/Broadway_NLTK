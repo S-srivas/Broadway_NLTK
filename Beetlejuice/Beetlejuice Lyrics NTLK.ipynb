{
 "cells": [
  {
   "cell_type": "code",
   "execution_count": 35,
   "metadata": {
    "scrolled": true
   },
   "outputs": [
    {
     "name": "stdout",
     "output_type": "stream",
     "text": [
      "[nltk_data] Downloading package punkt to\n",
      "[nltk_data]     C:\\Users\\Saina\\AppData\\Roaming\\nltk_data...\n",
      "[nltk_data]   Package punkt is already up-to-date!\n",
      "[nltk_data] Downloading package stopwords to\n",
      "[nltk_data]     C:\\Users\\Saina\\AppData\\Roaming\\nltk_data...\n",
      "[nltk_data]   Package stopwords is already up-to-date!\n"
     ]
    }
   ],
   "source": [
    "import nltk\n",
    "nltk.download(\"punkt\")\n",
    "nltk.download(\"stopwords\")\n",
    "\n",
    "file1 = open('DeadMom.txt', encoding=\"utf8\")\n",
    "input_together = file1.read()"
   ]
  },
  {
   "cell_type": "code",
   "execution_count": 72,
   "metadata": {
    "scrolled": true
   },
   "outputs": [],
   "source": [
    "def Punctuation(string): \n",
    "    punctuations = '''!()-[]{};:'\"\\,<>./?@#$%^&*_~'''\n",
    "  \n",
    "    for x in string.lower(): \n",
    "        if x in punctuations: \n",
    "            string = string.replace(x, \"\")    \n",
    "all_input = input_together\n",
    "Punctuation(all_input)"
   ]
  },
  {
   "cell_type": "code",
   "execution_count": 73,
   "metadata": {},
   "outputs": [],
   "source": [
    "from nltk import word_tokenize\n",
    "from nltk.corpus import stopwords\n",
    "a = set(stopwords.words('english'))\n",
    "input_all = all_input\n",
    "text1 = word_tokenize(input_all)\n",
    "stopwords = [x for x in text1 if x not in a]"
   ]
  },
  {
   "cell_type": "code",
   "execution_count": 38,
   "metadata": {},
   "outputs": [],
   "source": [
    "from nltk import FreqDist\n",
    "fdist = FreqDist(stopwords)"
   ]
  },
  {
   "cell_type": "code",
   "execution_count": 39,
   "metadata": {},
   "outputs": [
    {
     "name": "stdout",
     "output_type": "stream",
     "text": [
      "[('I', 13), ('Mom', 7), (\"'m\", 7), ('Dead', 6), ('Daddy', 6), (\"n't\", 6), ('?', 5), (\"'s\", 5), ('And', 4), (',', 3)]\n"
     ]
    }
   ],
   "source": [
    "fdist1 = fdist.most_common(10)\n",
    "print (fdist1)"
   ]
  },
  {
   "cell_type": "code",
   "execution_count": 40,
   "metadata": {},
   "outputs": [],
   "source": [
    "a,b = list(zip(*fdist1))"
   ]
  },
  {
   "cell_type": "code",
   "execution_count": 41,
   "metadata": {},
   "outputs": [
    {
     "data": {
      "text/plain": [
       "<Container object of 10 artists>"
      ]
     },
     "execution_count": 41,
     "metadata": {},
     "output_type": "execute_result"
    },
    {
     "data": {
      "image/png": "[encoded data removed]",
      "text/plain": [
       "<matplotlib.figure.Figure at 0x217762190b8>"
      ]
     },
     "metadata": {},
     "output_type": "display_data"
    }
   ],
   "source": [
    "import matplotlib.pyplot as plt\n",
    "plt.bar(a, b)"
   ]
  },
  {
   "cell_type": "code",
   "execution_count": 42,
   "metadata": {
    "scrolled": true
   },
   "outputs": [],
   "source": [
    "file2 = open('The-Whole-Dead-Thing.txt', encoding=\"utf8\")\n",
    "input_1 = file2.read()"
   ]
  },
  {
   "cell_type": "code",
   "execution_count": 43,
   "metadata": {
    "scrolled": true
   },
   "outputs": [],
   "source": [
    "def Punctuation(string): \n",
    "    punctuations = '''!()-[]{};:'\"\\,<>./?@#$%^&*_~'''\n",
    "  \n",
    "    for x in string.lower(): \n",
    "        if x in punctuations: \n",
    "            string = string.replace(x, \"\")   \n",
    "all_1 = input_1\n",
    "Punctuation(all_1)"
   ]
  },
  {
   "cell_type": "code",
   "execution_count": 44,
   "metadata": {},
   "outputs": [],
   "source": [
    "from nltk import word_tokenize\n",
    "from nltk.corpus import stopwords\n",
    "a = set(stopwords.words('english'))\n",
    "input_a = all_1\n",
    "text2 = word_tokenize(input_a)\n",
    "stopwords_1 = [x for x in text2 if x not in a]"
   ]
  },
  {
   "cell_type": "code",
   "execution_count": 45,
   "metadata": {},
   "outputs": [],
   "source": [
    "from nltk import FreqDist\n",
    "fdist_1 = FreqDist(stopwords_1)"
   ]
  },
  {
   "cell_type": "code",
   "execution_count": 46,
   "metadata": {},
   "outputs": [
    {
     "name": "stdout",
     "output_type": "stream",
     "text": [
      "[(',', 28), ('I', 14), ('!', 11), (\"'re\", 10), (\"'s\", 9), ('The', 7), ('show', 7), (\"''\", 7), ('dead', 6), ('thing', 6)]\n"
     ]
    }
   ],
   "source": [
    "fdist2 = fdist_1.most_common(10)\n",
    "print (fdist2)"
   ]
  },
  {
   "cell_type": "code",
   "execution_count": 47,
   "metadata": {},
   "outputs": [],
   "source": [
    "a1,b1 = list(zip(*fdist2))"
   ]
  },
  {
   "cell_type": "code",
   "execution_count": 48,
   "metadata": {},
   "outputs": [
    {
     "data": {
      "text/plain": [
       "<Container object of 10 artists>"
      ]
     },
     "execution_count": 48,
     "metadata": {},
     "output_type": "execute_result"
    },
    {
     "data": {
      "image/png": "[encoded data removed]",
      "text/plain": [
       "<matplotlib.figure.Figure at 0x21777fbca58>"
      ]
     },
     "metadata": {},
     "output_type": "display_data"
    }
   ],
   "source": [
    "import matplotlib.pyplot as plt\n",
    "plt.bar(a1, b1)"
   ]
  },
  {
   "cell_type": "code",
   "execution_count": 49,
   "metadata": {},
   "outputs": [],
   "source": [
    "file3 = open('AoI NLTK.txt', encoding=\"utf8\")\n",
    "input_t = file3.read()"
   ]
  },
  {
   "cell_type": "code",
   "execution_count": 50,
   "metadata": {},
   "outputs": [],
   "source": [
    "def Punctuation(string): \n",
    "    punctuations = '''!()-[]{};:'\"\\,<>./?@#$%^&*_~'''\n",
    "  \n",
    "    for x in string.lower(): \n",
    "        if x in punctuations: \n",
    "            string = string.replace(x, \"\") \n",
    "    \n",
    "all_i = input_t\n",
    "Punctuation(all_i)"
   ]
  },
  {
   "cell_type": "code",
   "execution_count": 51,
   "metadata": {},
   "outputs": [],
   "source": [
    "from nltk import word_tokenize\n",
    "from nltk.corpus import stopwords\n",
    "a = set(stopwords.words(\"english\"))\n",
    "input_a = all_i\n",
    "text3 = word_tokenize(input_a)\n",
    "stopwords_2 = [x for x in text3 if x not in a]"
   ]
  },
  {
   "cell_type": "code",
   "execution_count": 52,
   "metadata": {},
   "outputs": [],
   "source": [
    "from nltk import FreqDist\n",
    "fdist_2 = FreqDist(stopwords_2)"
   ]
  },
  {
   "cell_type": "code",
   "execution_count": 53,
   "metadata": {
    "scrolled": true
   },
   "outputs": [
    {
     "name": "stdout",
     "output_type": "stream",
     "text": [
      "[(',', 85), ('President', 36), ('.', 32), ('United', 28), ('States', 28), ('Trump', 27), ('—', 15), ('office', 14), ('House', 12), ('Ukraine', 12)]\n"
     ]
    }
   ],
   "source": [
    "fdist3 = fdist_2.most_common(10)\n",
    "print (fdist3)"
   ]
  },
  {
   "cell_type": "code",
   "execution_count": 54,
   "metadata": {},
   "outputs": [],
   "source": [
    "a2,b2 = list(zip(*fdist3))"
   ]
  },
  {
   "cell_type": "code",
   "execution_count": 55,
   "metadata": {
    "scrolled": false
   },
   "outputs": [
    {
     "data": {
      "text/plain": [
       "<Container object of 10 artists>"
      ]
     },
     "execution_count": 55,
     "metadata": {},
     "output_type": "execute_result"
    },
    {
     "data": {
      "image/png": "[encoded data removed]",
      "text/plain": [
       "<matplotlib.figure.Figure at 0x2177815e2b0>"
      ]
     },
     "metadata": {},
     "output_type": "display_data"
    }
   ],
   "source": [
    "import matplotlib.pyplot as plt\n",
    "plt.bar(a2, b2)"
   ]
  },
  {
   "cell_type": "code",
   "execution_count": 56,
   "metadata": {},
   "outputs": [
    {
     "name": "stdout",
     "output_type": "stream",
     "text": [
      "[('I', 13), ('Mom', 7), (\"'m\", 7), ('Dead', 6), ('Daddy', 6), (\"n't\", 6), ('?', 5), (\"'s\", 5), ('And', 4), (',', 3), (',', 28), ('I', 14), ('!', 11), (\"'re\", 10), (\"'s\", 9), ('The', 7), ('show', 7), (\"''\", 7), ('dead', 6), ('thing', 6), (',', 85), ('President', 36), ('.', 32), ('United', 28), ('States', 28), ('Trump', 27), ('—', 15), ('office', 14), ('House', 12), ('Ukraine', 12)]\n"
     ]
    }
   ],
   "source": [
    "from nltk import FreqDist\n",
    "fdist_3 = fdist1 + fdist2 + fdist3\n",
    "print (fdist_3)"
   ]
  },
  {
   "cell_type": "code",
   "execution_count": 57,
   "metadata": {},
   "outputs": [
    {
     "data": {
      "text/plain": [
       "100"
      ]
     },
     "execution_count": 57,
     "metadata": {},
     "output_type": "execute_result"
    }
   ],
   "source": [
    "file4 = open('All-Togther.txt', 'w', encoding=\"utf8\")\n",
    "file4.write('[(I, 13), (Mom, 7), (m, 7), (Dead, 6), (Daddy, 6), (nt, 6), (?, 5), (s, 5), (And, 4), (,, 3), (,, 28), (I, 14),')\n",
    "file4.write('(!, 11), (re, 10), (s, 9), (The, 7), (show, 7), (*apostrophe*, 7), (dead, 6), (thing, 6), (,, 85), (President, 36),')\n",
    "file4.write('(., 32), (United, 28), (States, 28), (Trump, 27), (—, 15), (office, 14), (House, 12), (Ukraine, 12)]')"
   ]
  },
  {
   "cell_type": "code",
   "execution_count": 66,
   "metadata": {},
   "outputs": [],
   "source": [
    "file4 = open('All-Togther.txt', encoding=\"utf8\")\n",
    "inpt_t = file4.read()"
   ]
  },
  {
   "cell_type": "code",
   "execution_count": 67,
   "metadata": {},
   "outputs": [],
   "source": [
    "def Punctuation(string): \n",
    "    punctuations = '''!()-[]{};:'\"\\,<>./?@#$%^&*_~'''\n",
    "  \n",
    "    for x in string.lower(): \n",
    "        if x in punctuations: \n",
    "            string = string.replace(x, \"\") \n",
    "    \n",
    "a_i = inpt_t\n",
    "Punctuation(a_i)"
   ]
  },
  {
   "cell_type": "code",
   "execution_count": 68,
   "metadata": {},
   "outputs": [],
   "source": [
    "from nltk import word_tokenize\n",
    "from nltk.corpus import stopwords\n",
    "a = set(stopwords.words(\"english\"))\n",
    "input_b = a_i\n",
    "text4 = word_tokenize(input_b)\n",
    "stopwords_3 = [x for x in text4 if x not in a]"
   ]
  },
  {
   "cell_type": "code",
   "execution_count": 69,
   "metadata": {},
   "outputs": [],
   "source": [
    "from nltk import FreqDist\n",
    "fdist_5 = FreqDist(stopwords_3)"
   ]
  },
  {
   "cell_type": "code",
   "execution_count": 70,
   "metadata": {},
   "outputs": [
    {
     "name": "stdout",
     "output_type": "stream",
     "text": [
      "[(',', 32), ('(', 30), (')', 30), ('I', 2), ('Mom', 1), ('Dead', 1), ('Daddy', 1), ('nt', 1), ('?', 1), ('And', 1)]\n"
     ]
    }
   ],
   "source": [
    "fdist6 = fdist_5.most_common(10)\n",
    "print (fdist6)"
   ]
  },
  {
   "cell_type": "code",
   "execution_count": 71,
   "metadata": {},
   "outputs": [
    {
     "data": {
      "text/plain": [
       "<Container object of 10 artists>"
      ]
     },
     "execution_count": 71,
     "metadata": {},
     "output_type": "execute_result"
    },
    {
     "data": {
      "image/png": "[encoded data removed]",
      "text/plain": [
       "<matplotlib.figure.Figure at 0x2177814d9e8>"
      ]
     },
     "metadata": {},
     "output_type": "display_data"
    }
   ],
   "source": [
    "a4,b4 = list(zip(*fdist6))\n",
    "import matplotlib.pyplot as plt\n",
    "plt.bar(a4, b4)"
   ]
  },
  {
   "cell_type": "code",
   "execution_count": null,
   "metadata": {},
   "outputs": [],
   "source": []
  }
 ],
 "metadata": {
  "kernelspec": {
   "display_name": "Python 3",
   "language": "python",
   "name": "python3"
  },
  "language_info": {
   "codemirror_mode": {
    "name": "ipython",
    "version": 3
   },
   "file_extension": ".py",
   "mimetype": "text/x-python",
   "name": "python",
   "nbconvert_exporter": "python",
   "pygments_lexer": "ipython3",
   "version": "3.6.4"
  }
 },
 "nbformat": 4,
 "nbformat_minor": 2
}
