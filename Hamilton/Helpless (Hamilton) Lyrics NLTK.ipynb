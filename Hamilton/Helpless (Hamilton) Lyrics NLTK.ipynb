{
 "cells": [
  {
   "cell_type": "code",
   "execution_count": 1,
   "metadata": {},
   "outputs": [
    {
     "name": "stdout",
     "output_type": "stream",
     "text": [
      "[nltk_data] Downloading package punkt to\n",
      "[nltk_data]     C:\\Users\\Saina\\AppData\\Roaming\\nltk_data...\n",
      "[nltk_data]   Package punkt is already up-to-date!\n",
      "[nltk_data] Downloading package stopwords to\n",
      "[nltk_data]     C:\\Users\\Saina\\AppData\\Roaming\\nltk_data...\n",
      "[nltk_data]   Package stopwords is already up-to-date!\n",
      "Ohh, I do I do I do I Dooo! Hey!\n",
      "Ohh, I do I do I do I Dooo! Boy, you got me\n",
      "Helpless!\n",
      "Look into your eyes, and the sky's the limit I'm\n",
      "helpless!\n",
      "Down for the count, and I'm drownin' in 'em.\n",
      "I have never been the type to try and grab the spotlight.\n",
      "We were at a revel with some rebels on a hot night\n",
      "laughin' at my sister as she's dazzling the room\n",
      "then you walked in and my heart went\n",
      "\"Boom!\"\n",
      "Tryin' to catch your eye from the side of the ballroom\n",
      "everybody's dancin' and the band's top volume.\n",
      "Grind to the rhythm as we wine and dine.\n",
      "Grab my sister, and whisper\n",
      "\"Yo, this one's mine.\" (Oooh)\n",
      "My sister made her way across the room to you (Oooh)\n",
      "and I got nervous, thinking\n",
      "\"What's she gonna do?\" (Oooh)\n",
      "She grabs you by the arm, I'm thinkin'\n",
      "\"I'm through\" (Oooh)\n",
      "Then you look back at me and suddenly I'm\n",
      "Helpless!\n",
      "Look into your eyes, (Oh, look at those eyes, )\n",
      "And the sky's the limit (Oh!)\n",
      "I'm helpless, (I know)\n",
      "Down for the count\n",
      "And I'm drownin' in 'em.\n",
      "I'm helpless! (I'm so into you, )\n",
      "Look into your eyes, (I am so.)\n",
      "And the sky's the limit (into you.)\n",
      "I'm helpless! (I know, )\n",
      "I'm down for the count\n",
      "And I'm drownin'in 'em.\n",
      "Where are you taking me?\n",
      "I'm about to change your life.\n",
      "Then by all means, lead the way.\n",
      "Elizabeth Schuyler. It's a pleasure to meet you.\n",
      "Schuyler?\n",
      "My sister.\n",
      "Thank you for all your service\n",
      "If it takes fighting a war for us to meet, it will\n",
      "have been worth it.\n",
      "I'll leave you to it.\n",
      "One week later\n",
      "I'm writin' a letter nightly.\n",
      "Now my life gets better\n",
      "every letter that you write me.\n",
      "Laughin' at my sister, cuz she wants to form a harem.\n",
      "I'm just sayin', if you really loved me\n",
      "you would share him.\n",
      "Ha! Two weeks later\n",
      "In the living room stressin'\n",
      "my father's stonefaced\n",
      "while you're asking for his blessin'.\n",
      "I'm dying inside, as you wine and dine\n",
      "and I'm tryin' not to cry, 'cause\n",
      "there's nothing that your mind can't do. (Oooh)\n",
      "My father makes his way across the room to you. (Oooh)\n",
      "I panic for a second, thinking\n",
      "\"we're through\" (Oooh)\n",
      "But then he shakes your hand and says\n",
      "\"Be true\" (Oooh)\n",
      "And you turn back to me, smiling, and I'm\n",
      "Helpless!\n",
      "Look into your eyes\n",
      "and the sky's the limit I'm\n",
      "Helpless!\n",
      "Hoo! Down for the count\n",
      "and I'm drownin' in 'em I'm\n",
      "helpless!\n",
      "he's mine, that boy is mine!\n",
      "Look into your eyes\n",
      "And the sky's the limit I'm\n",
      "Helpless! Helpless!\n",
      "Down for the count, and I'm drownin'in 'em\n",
      "Eliza, I don't have a dollar to my name\n",
      "an acre of land, a troop to command\n",
      "a dollop of fame.\n",
      "All I have's my honor, a tolerance for pain\n",
      "a couple of college credits and my top-notch brain.\n",
      "Insane, your family brings out a different side of me\n",
      "Peggy confides in me, Angelica tried to take a bite of me\n",
      "no stress, my love for you is never in doubt.\n",
      "We'll get a little place in Harlem and we'll figure it out.\n",
      "I've been livin' without a family since I was a child.\n",
      "My father left, my mother died, I grew up buckwild.\n",
      "But I'll never forget my mother's face, that was real\n",
      "and long as I'm alive, Eliza, swear to God, you'll never feel so\n",
      "(Helpless!) I do I do I do I do!\n",
      "Eliza... (Helpless!)\n",
      "I do I do I do I do!\n",
      "I've never felt so-\n",
      "Helpless! (Hey! Yeah, yeah!)\n",
      "Down for the count and\n",
      "I'm drownin' in 'em (Down for the count I'm)\n",
      "My life is gon' be fine cuz Eliza's in it.\n",
      "I look into your eyes, and the sky's the limit I'm (Helpless!)\n",
      "Down for the count\n",
      "and I'm drownin' in 'em.\n",
      "In New York, you can be a new man.\n",
      "in New York, you can be a new man.\n",
      "In New York, you can be a new man.\n",
      "Helpless!\n"
     ]
    }
   ],
   "source": [
    "import nltk\n",
    "nltk.download(\"punkt\")\n",
    "nltk.download(\"stopwords\")\n",
    "\n",
    "file1 = open('Helpless-Lyrics.txt', encoding=\"utf8\")\n",
    "input_together = file1.read()\n",
    "print(input_together)"
   ]
  },
  {
   "cell_type": "code",
   "execution_count": 2,
   "metadata": {
    "scrolled": true
   },
   "outputs": [
    {
     "name": "stdout",
     "output_type": "stream",
     "text": [
      "Ohh I do I do I do I Dooo Hey\n",
      "Ohh I do I do I do I Dooo Boy you got me\n",
      "Helpless\n",
      "Look into your eyes and the skys the limit Im\n",
      "helpless\n",
      "Down for the count and Im drownin in em\n",
      "I have never been the type to try and grab the spotlight\n",
      "We were at a revel with some rebels on a hot night\n",
      "laughin at my sister as shes dazzling the room\n",
      "then you walked in and my heart went\n",
      "Boom\n",
      "Tryin to catch your eye from the side of the ballroom\n",
      "everybodys dancin and the bands top volume\n",
      "Grind to the rhythm as we wine and dine\n",
      "Grab my sister and whisper\n",
      "Yo this ones mine Oooh\n",
      "My sister made her way across the room to you Oooh\n",
      "and I got nervous thinking\n",
      "Whats she gonna do Oooh\n",
      "She grabs you by the arm Im thinkin\n",
      "Im through Oooh\n",
      "Then you look back at me and suddenly Im\n",
      "Helpless\n",
      "Look into your eyes Oh look at those eyes \n",
      "And the skys the limit Oh\n",
      "Im helpless I know\n",
      "Down for the count\n",
      "And Im drownin in em\n",
      "Im helpless Im so into you \n",
      "Look into your eyes I am so\n",
      "And the skys the limit into you\n",
      "Im helpless I know \n",
      "Im down for the count\n",
      "And Im drowninin em\n",
      "Where are you taking me\n",
      "Im about to change your life\n",
      "Then by all means lead the way\n",
      "Elizabeth Schuyler Its a pleasure to meet you\n",
      "Schuyler\n",
      "My sister\n",
      "Thank you for all your service\n",
      "If it takes fighting a war for us to meet it will\n",
      "have been worth it\n",
      "Ill leave you to it\n",
      "One week later\n",
      "Im writin a letter nightly\n",
      "Now my life gets better\n",
      "every letter that you write me\n",
      "Laughin at my sister cuz she wants to form a harem\n",
      "Im just sayin if you really loved me\n",
      "you would share him\n",
      "Ha Two weeks later\n",
      "In the living room stressin\n",
      "my fathers stonefaced\n",
      "while youre asking for his blessin\n",
      "Im dying inside as you wine and dine\n",
      "and Im tryin not to cry cause\n",
      "theres nothing that your mind cant do Oooh\n",
      "My father makes his way across the room to you Oooh\n",
      "I panic for a second thinking\n",
      "were through Oooh\n",
      "But then he shakes your hand and says\n",
      "Be true Oooh\n",
      "And you turn back to me smiling and Im\n",
      "Helpless\n",
      "Look into your eyes\n",
      "and the skys the limit Im\n",
      "Helpless\n",
      "Hoo Down for the count\n",
      "and Im drownin in em Im\n",
      "helpless\n",
      "hes mine that boy is mine\n",
      "Look into your eyes\n",
      "And the skys the limit Im\n",
      "Helpless Helpless\n",
      "Down for the count and Im drowninin em\n",
      "Eliza I dont have a dollar to my name\n",
      "an acre of land a troop to command\n",
      "a dollop of fame\n",
      "All I haves my honor a tolerance for pain\n",
      "a couple of college credits and my topnotch brain\n",
      "Insane your family brings out a different side of me\n",
      "Peggy confides in me Angelica tried to take a bite of me\n",
      "no stress my love for you is never in doubt\n",
      "Well get a little place in Harlem and well figure it out\n",
      "Ive been livin without a family since I was a child\n",
      "My father left my mother died I grew up buckwild\n",
      "But Ill never forget my mothers face that was real\n",
      "and long as Im alive Eliza swear to God youll never feel so\n",
      "Helpless I do I do I do I do\n",
      "Eliza Helpless\n",
      "I do I do I do I do\n",
      "Ive never felt so\n",
      "Helpless Hey Yeah yeah\n",
      "Down for the count and\n",
      "Im drownin in em Down for the count Im\n",
      "My life is gon be fine cuz Elizas in it\n",
      "I look into your eyes and the skys the limit Im Helpless\n",
      "Down for the count\n",
      "and Im drownin in em\n",
      "In New York you can be a new man\n",
      "in New York you can be a new man\n",
      "In New York you can be a new man\n",
      "Helpless\n"
     ]
    }
   ],
   "source": [
    "def Punctuation(string): \n",
    "    punctuations = '''!()-[]{};:'\"\\,<>./?@#$%^&*_~'''\n",
    "  \n",
    "    for x in string.lower(): \n",
    "        if x in punctuations: \n",
    "            string = string.replace(x, \"\") \n",
    "  \n",
    "    # Print string without punctuation \n",
    "    print(string)\n",
    "    \n",
    "all_input = input_together\n",
    "trial_1 = Punctuation(all_input)"
   ]
  },
  {
   "cell_type": "code",
   "execution_count": 3,
   "metadata": {},
   "outputs": [
    {
     "name": "stdout",
     "output_type": "stream",
     "text": [
      "[nltk_data] Downloading package punkt to\n",
      "[nltk_data]     C:\\Users\\Saina\\AppData\\Roaming\\nltk_data...\n",
      "[nltk_data]   Package punkt is already up-to-date!\n",
      "[nltk_data] Downloading package stopwords to\n",
      "[nltk_data]     C:\\Users\\Saina\\AppData\\Roaming\\nltk_data...\n",
      "[nltk_data]   Package stopwords is already up-to-date!\n",
      "['Ohh', ',', 'I', 'do', 'I', 'do', 'I', 'do', 'I', 'Dooo', '!', 'Hey', '!', 'Ohh', ',', 'I', 'do', 'I', 'do', 'I', 'do', 'I', 'Dooo', '!', 'Boy', ',', 'you', 'got', 'me', 'Helpless', '!', 'Look', 'into', 'your', 'eyes', ',', 'and', 'the', 'sky', \"'s\", 'the', 'limit', \"I'm\", 'helpless', '!', 'Down', 'for', 'the', 'count', ',', 'and', 'I', \"'m\", 'drownin', \"'\", 'in', \"'em\", '.', 'I', 'have', 'never', 'been', 'the', 'type', 'to', 'try', 'and', 'grab', 'the', 'spotlight', '.', 'We', 'were', 'at', 'a', 'revel', 'with', 'some', 'rebels', 'on', 'a', 'hot', 'night', 'laughin', \"'\", 'at', 'my', 'sister', 'as', 'she', \"'s\", 'dazzling', 'the', 'room', 'then', 'you', 'walked', 'in', 'and', 'my', 'heart', 'went', \"''\", 'Boom', '!', \"''\", 'Tryin', \"'\", 'to', 'catch', 'your', 'eye', 'from', 'the', 'side', 'of', 'the', 'ballroom', 'everybody', \"'s\", 'dancin', \"'\", 'and', 'the', 'band', \"'s\", 'top', 'volume', '.', 'Grind', 'to', 'the', 'rhythm', 'as', 'we', 'wine', 'and', 'dine', '.', 'Grab', 'my', 'sister', ',', 'and', 'whisper', \"''\", 'Yo', ',', 'this', 'one', \"'s\", 'mine', '.', \"''\", '(', 'Oooh', ')', 'My', 'sister', 'made', 'her', 'way', 'across', 'the', 'room', 'to', 'you', '(', 'Oooh', ')', 'and', 'I', 'got', 'nervous', ',', 'thinking', \"''\", 'What', \"'s\", 'she', 'gon', 'na', 'do', '?', \"''\", '(', 'Oooh', ')', 'She', 'grabs', 'you', 'by', 'the', 'arm', ',', 'I', \"'m\", \"thinkin'\", \"''\", 'I', \"'m\", 'through', \"''\", '(', 'Oooh', ')', 'Then', 'you', 'look', 'back', 'at', 'me', 'and', 'suddenly', \"I'm\", 'Helpless', '!', 'Look', 'into', 'your', 'eyes', ',', '(', 'Oh', ',', 'look', 'at', 'those', 'eyes', ',', ')', 'And', 'the', 'sky', \"'s\", 'the', 'limit', '(', 'Oh', '!', ')', 'I', \"'m\", 'helpless', ',', '(', 'I', 'know', ')', 'Down', 'for', 'the', 'count', 'And', 'I', \"'m\", 'drownin', \"'\", 'in', \"'em\", '.', 'I', \"'m\", 'helpless', '!', '(', 'I', \"'m\", 'so', 'into', 'you', ',', ')', 'Look', 'into', 'your', 'eyes', ',', '(', 'I', 'am', 'so', '.', ')', 'And', 'the', 'sky', \"'s\", 'the', 'limit', '(', 'into', 'you', '.', ')', 'I', \"'m\", 'helpless', '!', '(', 'I', 'know', ',', ')', 'I', \"'m\", 'down', 'for', 'the', 'count', 'And', 'I', \"'m\", \"drownin'in\", \"'em\", '.', 'Where', 'are', 'you', 'taking', 'me', '?', 'I', \"'m\", 'about', 'to', 'change', 'your', 'life', '.', 'Then', 'by', 'all', 'means', ',', 'lead', 'the', 'way', '.', 'Elizabeth', 'Schuyler', '.', 'It', \"'s\", 'a', 'pleasure', 'to', 'meet', 'you', '.', 'Schuyler', '?', 'My', 'sister', '.', 'Thank', 'you', 'for', 'all', 'your', 'service', 'If', 'it', 'takes', 'fighting', 'a', 'war', 'for', 'us', 'to', 'meet', ',', 'it', 'will', 'have', 'been', 'worth', 'it', '.', 'I', \"'ll\", 'leave', 'you', 'to', 'it', '.', 'One', 'week', 'later', 'I', \"'m\", 'writin', \"'\", 'a', 'letter', 'nightly', '.', 'Now', 'my', 'life', 'gets', 'better', 'every', 'letter', 'that', 'you', 'write', 'me', '.', 'Laughin', \"'\", 'at', 'my', 'sister', ',', 'cuz', 'she', 'wants', 'to', 'form', 'a', 'harem', '.', 'I', \"'m\", 'just', 'sayin', \"'\", ',', 'if', 'you', 'really', 'loved', 'me', 'you', 'would', 'share', 'him', '.', 'Ha', '!', 'Two', 'weeks', 'later', 'In', 'the', 'living', 'room', \"stressin'\", 'my', 'father', \"'s\", 'stonefaced', 'while', 'you', \"'re\", 'asking', 'for', 'his', 'blessin', \"'\", '.', 'I', \"'m\", 'dying', 'inside', ',', 'as', 'you', 'wine', 'and', 'dine', 'and', 'I', \"'m\", 'tryin', \"'\", 'not', 'to', 'cry', ',', \"'cause\", 'there', \"'s\", 'nothing', 'that', 'your', 'mind', 'ca', \"n't\", 'do', '.', '(', 'Oooh', ')', 'My', 'father', 'makes', 'his', 'way', 'across', 'the', 'room', 'to', 'you', '.', '(', 'Oooh', ')', 'I', 'panic', 'for', 'a', 'second', ',', 'thinking', \"''\", 'we', \"'re\", 'through', \"''\", '(', 'Oooh', ')', 'But', 'then', 'he', 'shakes', 'your', 'hand', 'and', 'says', \"''\", 'Be', 'true', \"''\", '(', 'Oooh', ')', 'And', 'you', 'turn', 'back', 'to', 'me', ',', 'smiling', ',', 'and', \"I'm\", 'Helpless', '!', 'Look', 'into', 'your', 'eyes', 'and', 'the', 'sky', \"'s\", 'the', 'limit', \"I'm\", 'Helpless', '!', 'Hoo', '!', 'Down', 'for', 'the', 'count', 'and', 'I', \"'m\", 'drownin', \"'\", 'in', \"'em\", \"I'm\", 'helpless', '!', 'he', \"'s\", 'mine', ',', 'that', 'boy', 'is', 'mine', '!', 'Look', 'into', 'your', 'eyes', 'And', 'the', 'sky', \"'s\", 'the', 'limit', \"I'm\", 'Helpless', '!', 'Helpless', '!', 'Down', 'for', 'the', 'count', ',', 'and', 'I', \"'m\", \"drownin'in\", \"'em\", 'Eliza', ',', 'I', 'do', \"n't\", 'have', 'a', 'dollar', 'to', 'my', 'name', 'an', 'acre', 'of', 'land', ',', 'a', 'troop', 'to', 'command', 'a', 'dollop', 'of', 'fame', '.', 'All', 'I', 'have', \"'s\", 'my', 'honor', ',', 'a', 'tolerance', 'for', 'pain', 'a', 'couple', 'of', 'college', 'credits', 'and', 'my', 'top-notch', 'brain', '.', 'Insane', ',', 'your', 'family', 'brings', 'out', 'a', 'different', 'side', 'of', 'me', 'Peggy', 'confides', 'in', 'me', ',', 'Angelica', 'tried', 'to', 'take', 'a', 'bite', 'of', 'me', 'no', 'stress', ',', 'my', 'love', 'for', 'you', 'is', 'never', 'in', 'doubt', '.', 'We', \"'ll\", 'get', 'a', 'little', 'place', 'in', 'Harlem', 'and', 'we', \"'ll\", 'figure', 'it', 'out', '.', 'I', \"'ve\", 'been', 'livin', \"'\", 'without', 'a', 'family', 'since', 'I', 'was', 'a', 'child', '.', 'My', 'father', 'left', ',', 'my', 'mother', 'died', ',', 'I', 'grew', 'up', 'buckwild', '.', 'But', 'I', \"'ll\", 'never', 'forget', 'my', 'mother', \"'s\", 'face', ',', 'that', 'was', 'real', 'and', 'long', 'as', 'I', \"'m\", 'alive', ',', 'Eliza', ',', 'swear', 'to', 'God', ',', 'you', \"'ll\", 'never', 'feel', 'so', '(', 'Helpless', '!', ')', 'I', 'do', 'I', 'do', 'I', 'do', 'I', 'do', '!', 'Eliza', '...', '(', 'Helpless', '!', ')', 'I', 'do', 'I', 'do', 'I', 'do', 'I', 'do', '!', 'I', \"'ve\", 'never', 'felt', 'so-', 'Helpless', '!', '(', 'Hey', '!', 'Yeah', ',', 'yeah', '!', ')', 'Down', 'for', 'the', 'count', 'and', 'I', \"'m\", 'drownin', \"'\", 'in', \"'em\", '(', 'Down', 'for', 'the', 'count', 'I', \"'m\", ')', 'My', 'life', 'is', 'gon', \"'\", 'be', 'fine', 'cuz', 'Eliza', \"'s\", 'in', 'it', '.', 'I', 'look', 'into', 'your', 'eyes', ',', 'and', 'the', 'sky', \"'s\", 'the', 'limit', 'I', \"'m\", '(', 'Helpless', '!', ')', 'Down', 'for', 'the', 'count', 'and', 'I', \"'m\", 'drownin', \"'\", 'in', \"'em\", '.', 'In', 'New', 'York', ',', 'you', 'can', 'be', 'a', 'new', 'man', '.', 'in', 'New', 'York', ',', 'you', 'can', 'be', 'a', 'new', 'man', '.', 'In', 'New', 'York', ',', 'you', 'can', 'be', 'a', 'new', 'man', '.', 'Helpless', '!']\n",
      "['Ohh', ',', 'I', 'I', 'I', 'I', 'Dooo', '!', 'Hey', '!', 'Ohh', ',', 'I', 'I', 'I', 'I', 'Dooo', '!', 'Boy', ',', 'got', 'Helpless', '!', 'Look', 'eyes', ',', 'sky', \"'s\", 'limit', \"I'm\", 'helpless', '!', 'Down', 'count', ',', 'I', \"'m\", 'drownin', \"'\", \"'em\", '.', 'I', 'never', 'type', 'try', 'grab', 'spotlight', '.', 'We', 'revel', 'rebels', 'hot', 'night', 'laughin', \"'\", 'sister', \"'s\", 'dazzling', 'room', 'walked', 'heart', 'went', \"''\", 'Boom', '!', \"''\", 'Tryin', \"'\", 'catch', 'eye', 'side', 'ballroom', 'everybody', \"'s\", 'dancin', \"'\", 'band', \"'s\", 'top', 'volume', '.', 'Grind', 'rhythm', 'wine', 'dine', '.', 'Grab', 'sister', ',', 'whisper', \"''\", 'Yo', ',', 'one', \"'s\", 'mine', '.', \"''\", '(', 'Oooh', ')', 'My', 'sister', 'made', 'way', 'across', 'room', '(', 'Oooh', ')', 'I', 'got', 'nervous', ',', 'thinking', \"''\", 'What', \"'s\", 'gon', 'na', '?', \"''\", '(', 'Oooh', ')', 'She', 'grabs', 'arm', ',', 'I', \"'m\", \"thinkin'\", \"''\", 'I', \"'m\", \"''\", '(', 'Oooh', ')', 'Then', 'look', 'back', 'suddenly', \"I'm\", 'Helpless', '!', 'Look', 'eyes', ',', '(', 'Oh', ',', 'look', 'eyes', ',', ')', 'And', 'sky', \"'s\", 'limit', '(', 'Oh', '!', ')', 'I', \"'m\", 'helpless', ',', '(', 'I', 'know', ')', 'Down', 'count', 'And', 'I', \"'m\", 'drownin', \"'\", \"'em\", '.', 'I', \"'m\", 'helpless', '!', '(', 'I', \"'m\", ',', ')', 'Look', 'eyes', ',', '(', 'I', '.', ')', 'And', 'sky', \"'s\", 'limit', '(', '.', ')', 'I', \"'m\", 'helpless', '!', '(', 'I', 'know', ',', ')', 'I', \"'m\", 'count', 'And', 'I', \"'m\", \"drownin'in\", \"'em\", '.', 'Where', 'taking', '?', 'I', \"'m\", 'change', 'life', '.', 'Then', 'means', ',', 'lead', 'way', '.', 'Elizabeth', 'Schuyler', '.', 'It', \"'s\", 'pleasure', 'meet', '.', 'Schuyler', '?', 'My', 'sister', '.', 'Thank', 'service', 'If', 'takes', 'fighting', 'war', 'us', 'meet', ',', 'worth', '.', 'I', \"'ll\", 'leave', '.', 'One', 'week', 'later', 'I', \"'m\", 'writin', \"'\", 'letter', 'nightly', '.', 'Now', 'life', 'gets', 'better', 'every', 'letter', 'write', '.', 'Laughin', \"'\", 'sister', ',', 'cuz', 'wants', 'form', 'harem', '.', 'I', \"'m\", 'sayin', \"'\", ',', 'really', 'loved', 'would', 'share', '.', 'Ha', '!', 'Two', 'weeks', 'later', 'In', 'living', 'room', \"stressin'\", 'father', \"'s\", 'stonefaced', \"'re\", 'asking', 'blessin', \"'\", '.', 'I', \"'m\", 'dying', 'inside', ',', 'wine', 'dine', 'I', \"'m\", 'tryin', \"'\", 'cry', ',', \"'cause\", \"'s\", 'nothing', 'mind', 'ca', \"n't\", '.', '(', 'Oooh', ')', 'My', 'father', 'makes', 'way', 'across', 'room', '.', '(', 'Oooh', ')', 'I', 'panic', 'second', ',', 'thinking', \"''\", \"'re\", \"''\", '(', 'Oooh', ')', 'But', 'shakes', 'hand', 'says', \"''\", 'Be', 'true', \"''\", '(', 'Oooh', ')', 'And', 'turn', 'back', ',', 'smiling', ',', \"I'm\", 'Helpless', '!', 'Look', 'eyes', 'sky', \"'s\", 'limit', \"I'm\", 'Helpless', '!', 'Hoo', '!', 'Down', 'count', 'I', \"'m\", 'drownin', \"'\", \"'em\", \"I'm\", 'helpless', '!', \"'s\", 'mine', ',', 'boy', 'mine', '!', 'Look', 'eyes', 'And', 'sky', \"'s\", 'limit', \"I'm\", 'Helpless', '!', 'Helpless', '!', 'Down', 'count', ',', 'I', \"'m\", \"drownin'in\", \"'em\", 'Eliza', ',', 'I', \"n't\", 'dollar', 'name', 'acre', 'land', ',', 'troop', 'command', 'dollop', 'fame', '.', 'All', 'I', \"'s\", 'honor', ',', 'tolerance', 'pain', 'couple', 'college', 'credits', 'top-notch', 'brain', '.', 'Insane', ',', 'family', 'brings', 'different', 'side', 'Peggy', 'confides', ',', 'Angelica', 'tried', 'take', 'bite', 'stress', ',', 'love', 'never', 'doubt', '.', 'We', \"'ll\", 'get', 'little', 'place', 'Harlem', \"'ll\", 'figure', '.', 'I', \"'ve\", 'livin', \"'\", 'without', 'family', 'since', 'I', 'child', '.', 'My', 'father', 'left', ',', 'mother', 'died', ',', 'I', 'grew', 'buckwild', '.', 'But', 'I', \"'ll\", 'never', 'forget', 'mother', \"'s\", 'face', ',', 'real', 'long', 'I', \"'m\", 'alive', ',', 'Eliza', ',', 'swear', 'God', ',', \"'ll\", 'never', 'feel', '(', 'Helpless', '!', ')', 'I', 'I', 'I', 'I', '!', 'Eliza', '...', '(', 'Helpless', '!', ')', 'I', 'I', 'I', 'I', '!', 'I', \"'ve\", 'never', 'felt', 'so-', 'Helpless', '!', '(', 'Hey', '!', 'Yeah', ',', 'yeah', '!', ')', 'Down', 'count', 'I', \"'m\", 'drownin', \"'\", \"'em\", '(', 'Down', 'count', 'I', \"'m\", ')', 'My', 'life', 'gon', \"'\", 'fine', 'cuz', 'Eliza', \"'s\", '.', 'I', 'look', 'eyes', ',', 'sky', \"'s\", 'limit', 'I', \"'m\", '(', 'Helpless', '!', ')', 'Down', 'count', 'I', \"'m\", 'drownin', \"'\", \"'em\", '.', 'In', 'New', 'York', ',', 'new', 'man', '.', 'New', 'York', ',', 'new', 'man', '.', 'In', 'New', 'York', ',', 'new', 'man', '.', 'Helpless', '!']\n"
     ]
    }
   ],
   "source": [
    "nltk.download(\"punkt\")\n",
    "nltk.download(\"stopwords\")\n",
    "\n",
    "from nltk import word_tokenize\n",
    "from nltk.corpus import stopwords\n",
    "a = set(stopwords.words(\"english\"))\n",
    "input_all = all_input\n",
    "text1 = word_tokenize(input_all)\n",
    "print(text1)\n",
    "stopwords = [x for x in text1 if x not in a]\n",
    "print(stopwords)"
   ]
  },
  {
   "cell_type": "code",
   "execution_count": 4,
   "metadata": {},
   "outputs": [],
   "source": [
    "from nltk import FreqDist\n",
    "fdist = FreqDist(stopwords)"
   ]
  },
  {
   "cell_type": "code",
   "execution_count": 5,
   "metadata": {
    "scrolled": true
   },
   "outputs": [
    {
     "name": "stdout",
     "output_type": "stream",
     "text": [
      "[('I', 53), (',', 44), ('.', 34), ('!', 27), (\"'m\", 22), ('(', 20), (')', 20), (\"'s\", 18), (\"'\", 15), (\"''\", 12)]\n"
     ]
    }
   ],
   "source": [
    "fdist1 = fdist.most_common(10)\n",
    "print (fdist1)"
   ]
  },
  {
   "cell_type": "code",
   "execution_count": 6,
   "metadata": {},
   "outputs": [],
   "source": [
    "a,b = list(zip(*fdist1))"
   ]
  },
  {
   "cell_type": "code",
   "execution_count": 8,
   "metadata": {},
   "outputs": [
    {
     "data": {
      "text/plain": [
       "<Container object of 10 artists>"
      ]
     },
     "execution_count": 8,
     "metadata": {},
     "output_type": "execute_result"
    },
    {
     "data": {
      "image/png": "[encoded data removed]",
      "text/plain": [
       "<matplotlib.figure.Figure at 0x206db7961d0>"
      ]
     },
     "metadata": {},
     "output_type": "display_data"
    }
   ],
   "source": [
    "import matplotlib.pyplot as plt\n",
    "plt.bar(a, b)"
   ]
  },
  {
   "cell_type": "code",
   "execution_count": null,
   "metadata": {},
   "outputs": [],
   "source": []
  }
 ],
 "metadata": {
  "kernelspec": {
   "display_name": "Python 3",
   "language": "python",
   "name": "python3"
  },
  "language_info": {
   "codemirror_mode": {
    "name": "ipython",
    "version": 3
   },
   "file_extension": ".py",
   "mimetype": "text/x-python",
   "name": "python",
   "nbconvert_exporter": "python",
   "pygments_lexer": "ipython3",
   "version": "3.6.4"
  }
 },
 "nbformat": 4,
 "nbformat_minor": 2
}
